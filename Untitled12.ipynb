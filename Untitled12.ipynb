{
  "nbformat": 4,
  "nbformat_minor": 0,
  "metadata": {
    "colab": {
      "provenance": [],
      "authorship_tag": "ABX9TyOlr+AsV+v8jpDcgzVRbT4U",
      "include_colab_link": true
    },
    "kernelspec": {
      "name": "python3",
      "display_name": "Python 3"
    },
    "language_info": {
      "name": "python"
    }
  },
  "cells": [
    {
      "cell_type": "markdown",
      "metadata": {
        "id": "view-in-github",
        "colab_type": "text"
      },
      "source": [
        "<a href=\"https://colab.research.google.com/github/bhupathisneha/github-file1/blob/main/Untitled12.ipynb\" target=\"_parent\"><img src=\"https://colab.research.google.com/assets/colab-badge.svg\" alt=\"Open In Colab\"/></a>"
      ]
    },
    {
      "cell_type": "code",
      "execution_count": 1,
      "metadata": {
        "id": "dgz-r-ta9DkH",
        "colab": {
          "base_uri": "https://localhost:8080/",
          "height": 126
        },
        "outputId": "519bf88a-ccd8-49e4-ee93-9bdf6316a2cc"
      },
      "outputs": [
        {
          "output_type": "display_data",
          "data": {
            "text/plain": [
              "<IPython.core.display.HTML object>"
            ],
            "text/html": [
              "\n",
              "<form action=\"/login\" method=\"post\">\n",
              "    <label for=\"username\">Username:</label><br>\n",
              "    <input type=\"text\" id=\"username\" name=\"username\"><br>\n",
              "    <label for=\"password\">Password:</label><br>\n",
              "    <input type=\"password\" id=\"password\" name=\"password\"><br><br>\n",
              "    <input type=\"submit\" value=\"Login\">\n",
              "</form>\n"
            ]
          },
          "metadata": {}
        }
      ],
      "source": [
        "from IPython.display import display, HTML\n",
        "\n",
        "html_code = \"\"\"\n",
        "<form action=\"/login\" method=\"post\">\n",
        "    <label for=\"username\">Username:</label><br>\n",
        "    <input type=\"text\" id=\"username\" name=\"username\"><br>\n",
        "    <label for=\"password\">Password:</label><br>\n",
        "    <input type=\"password\" id=\"password\" name=\"password\"><br><br>\n",
        "    <input type=\"submit\" value=\"Login\">\n",
        "</form>\n",
        "\"\"\"\n",
        "\n",
        "display(HTML(html_code))"
      ]
    }
  ]
}